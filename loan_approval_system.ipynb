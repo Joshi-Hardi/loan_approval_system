{
 "cells": [
  {
   "cell_type": "code",
   "execution_count": 2,
   "id": "d0e596b1",
   "metadata": {},
   "outputs": [
    {
     "name": "stdout",
     "output_type": "stream",
     "text": [
      "      CreditScore  Age    Balance  HasCrCard  IsActiveMember  EstimatedSalary\n",
      "0             619   42       0.00          1               1        101348.88\n",
      "1             608   41   83807.86          0               1        112542.58\n",
      "2             502   42  159660.80          1               0        113931.57\n",
      "3             699   39       0.00          0               0         93826.63\n",
      "4             850   43  125510.82          1               1         79084.10\n",
      "...           ...  ...        ...        ...             ...              ...\n",
      "9995          771   39       0.00          1               0         96270.64\n",
      "9996          516   35   57369.61          1               1        101699.77\n",
      "9997          709   36       0.00          0               1         42085.58\n",
      "9998          772   42   75075.31          1               0         92888.52\n",
      "9999          792   28  130142.79          1               0         38190.78\n",
      "\n",
      "[10000 rows x 6 columns]\n",
      "      Loan\n",
      "0        1\n",
      "1        0\n",
      "2        1\n",
      "3        0\n",
      "4        0\n",
      "...    ...\n",
      "9995     0\n",
      "9996     0\n",
      "9997     1\n",
      "9998     1\n",
      "9999     0\n",
      "\n",
      "[10000 rows x 1 columns]\n"
     ]
    }
   ],
   "source": [
    "#Importing necessary Libraries\n",
    "import numpy as np\n",
    "import pandas as pd\n",
    "import tensorflow as tf\n",
    "\n",
    "# load dataset\n",
    "data = pd.read_csv(\"Credit_Score.csv\")\n",
    "X=data[['CreditScore', 'Age', 'Balance', 'HasCrCard', 'IsActiveMember', 'EstimatedSalary']]\n",
    "print(X)\n",
    "Y=data[['Loan']]\n",
    "print(Y)"
   ]
  },
  {
   "cell_type": "code",
   "execution_count": 3,
   "id": "ddfaf108",
   "metadata": {},
   "outputs": [],
   "source": [
    "#Splitting dataset into training and testing dataset\n",
    "from sklearn.model_selection import train_test_split\n",
    "X_train,X_test,Y_train,Y_test = train_test_split(X,Y,test_size=0.2,random_state=0)\n",
    "from sklearn.preprocessing import StandardScaler\n",
    "sc = StandardScaler()\n",
    "X_train = sc.fit_transform(X_train)\n",
    "X_test = sc.transform(X_test)"
   ]
  },
  {
   "cell_type": "code",
   "execution_count": 8,
   "id": "e0788332",
   "metadata": {},
   "outputs": [
    {
     "name": "stdout",
     "output_type": "stream",
     "text": [
      "Epoch 1/35\n",
      "250/250 [==============================] - 2s 2ms/step - loss: 0.6186 - accuracy: 0.6670\n",
      "Epoch 2/35\n",
      "250/250 [==============================] - 1s 2ms/step - loss: 0.4683 - accuracy: 0.8049\n",
      "Epoch 3/35\n",
      "250/250 [==============================] - 1s 2ms/step - loss: 0.4407 - accuracy: 0.8142\n",
      "Epoch 4/35\n",
      "250/250 [==============================] - 1s 2ms/step - loss: 0.4324 - accuracy: 0.8215\n",
      "Epoch 5/35\n",
      "250/250 [==============================] - 1s 2ms/step - loss: 0.4278 - accuracy: 0.8266\n",
      "Epoch 6/35\n",
      "250/250 [==============================] - 1s 2ms/step - loss: 0.4248 - accuracy: 0.8298\n",
      "Epoch 7/35\n",
      "250/250 [==============================] - 1s 2ms/step - loss: 0.4225 - accuracy: 0.8292\n",
      "Epoch 8/35\n",
      "250/250 [==============================] - 1s 2ms/step - loss: 0.4202 - accuracy: 0.8307\n",
      "Epoch 9/35\n",
      "250/250 [==============================] - 1s 2ms/step - loss: 0.4177 - accuracy: 0.8316\n",
      "Epoch 10/35\n",
      "250/250 [==============================] - 1s 2ms/step - loss: 0.4161 - accuracy: 0.8324\n",
      "Epoch 11/35\n",
      "250/250 [==============================] - 1s 2ms/step - loss: 0.4145 - accuracy: 0.8310\n",
      "Epoch 12/35\n",
      "250/250 [==============================] - 1s 2ms/step - loss: 0.4132 - accuracy: 0.8299\n",
      "Epoch 13/35\n",
      "250/250 [==============================] - 1s 2ms/step - loss: 0.4129 - accuracy: 0.8324\n",
      "Epoch 14/35\n",
      "250/250 [==============================] - 1s 2ms/step - loss: 0.4120 - accuracy: 0.8309\n",
      "Epoch 15/35\n",
      "250/250 [==============================] - 1s 2ms/step - loss: 0.4117 - accuracy: 0.8316\n",
      "Epoch 16/35\n",
      "250/250 [==============================] - 1s 2ms/step - loss: 0.4110 - accuracy: 0.8319\n",
      "Epoch 17/35\n",
      "250/250 [==============================] - 1s 3ms/step - loss: 0.4110 - accuracy: 0.8317\n",
      "Epoch 18/35\n",
      "250/250 [==============================] - 1s 2ms/step - loss: 0.4107 - accuracy: 0.8317\n",
      "Epoch 19/35\n",
      "250/250 [==============================] - 1s 3ms/step - loss: 0.4102 - accuracy: 0.8311\n",
      "Epoch 20/35\n",
      "250/250 [==============================] - 1s 4ms/step - loss: 0.4101 - accuracy: 0.8320\n",
      "Epoch 21/35\n",
      "250/250 [==============================] - 1s 4ms/step - loss: 0.4099 - accuracy: 0.8314\n",
      "Epoch 22/35\n",
      "250/250 [==============================] - 1s 3ms/step - loss: 0.4095 - accuracy: 0.8300\n",
      "Epoch 23/35\n",
      "250/250 [==============================] - 1s 3ms/step - loss: 0.4092 - accuracy: 0.8313\n",
      "Epoch 24/35\n",
      "250/250 [==============================] - 1s 3ms/step - loss: 0.4092 - accuracy: 0.8314\n",
      "Epoch 25/35\n",
      "250/250 [==============================] - 1s 2ms/step - loss: 0.4089 - accuracy: 0.8310\n",
      "Epoch 26/35\n",
      "250/250 [==============================] - 1s 2ms/step - loss: 0.4088 - accuracy: 0.8320\n",
      "Epoch 27/35\n",
      "250/250 [==============================] - 1s 3ms/step - loss: 0.4085 - accuracy: 0.8314\n",
      "Epoch 28/35\n",
      "250/250 [==============================] - 1s 2ms/step - loss: 0.4083 - accuracy: 0.8315\n",
      "Epoch 29/35\n",
      "250/250 [==============================] - 1s 2ms/step - loss: 0.4079 - accuracy: 0.8315\n",
      "Epoch 30/35\n",
      "250/250 [==============================] - 1s 2ms/step - loss: 0.4079 - accuracy: 0.8299\n",
      "Epoch 31/35\n",
      "250/250 [==============================] - 1s 2ms/step - loss: 0.4078 - accuracy: 0.8304\n",
      "Epoch 32/35\n",
      "250/250 [==============================] - 1s 2ms/step - loss: 0.4074 - accuracy: 0.8310\n",
      "Epoch 33/35\n",
      "250/250 [==============================] - 1s 2ms/step - loss: 0.4072 - accuracy: 0.8320\n",
      "Epoch 34/35\n",
      "250/250 [==============================] - 1s 3ms/step - loss: 0.4069 - accuracy: 0.8311\n",
      "Epoch 35/35\n",
      "250/250 [==============================] - 1s 3ms/step - loss: 0.4069 - accuracy: 0.8296\n"
     ]
    },
    {
     "data": {
      "text/plain": [
       "<keras.callbacks.History at 0x16d2c1ac640>"
      ]
     },
     "execution_count": 8,
     "metadata": {},
     "output_type": "execute_result"
    }
   ],
   "source": [
    "#Initialising ANN\n",
    "ann = tf.keras.models.Sequential()\n",
    " #Adding First Hidden Layer\n",
    "ann.add(tf.keras.layers.Dense(units=6,activation=\"relu\"))\n",
    "#Adding Second Hidden Layer\n",
    "ann.add(tf.keras.layers.Dense(units=6,activation=\"relu\"))\n",
    " #Adding Output Layer\n",
    "ann.add(tf.keras.layers.Dense(units=1,activation=\"sigmoid\"))\n",
    "#Compiling ANN\n",
    "ann.compile(optimizer=\"adam\",loss=\"binary_crossentropy\",metrics=['accuracy'])\n",
    "#Fitting ANN\n",
    "ann.fit(X_train,Y_train,batch_size=32,epochs = 35)"
   ]
  },
  {
   "cell_type": "code",
   "execution_count": 6,
   "id": "e997e6a1",
   "metadata": {},
   "outputs": [
    {
     "name": "stdout",
     "output_type": "stream",
     "text": [
      "1/1 [==============================] - 0s 35ms/step\n",
      "[[0.08521729]]\n",
      "Loan not Approved\n"
     ]
    },
    {
     "name": "stderr",
     "output_type": "stream",
     "text": [
      "C:\\Users\\Divya Joshi\\AppData\\Roaming\\Python\\Python39\\site-packages\\sklearn\\base.py:409: UserWarning: X does not have valid feature names, but StandardScaler was fitted with feature names\n",
      "  warnings.warn(\n"
     ]
    }
   ],
   "source": [
    "#Predicting result for Single Observation\n",
    "#print(X_test.iloc[3])\n",
    "#test=X_test.iloc[3]\n",
    "#print(ann.predict(X_test))\n",
    "#print(ann.predict(sc.transform([[500,30, 90000, 0, 0,50000]])))\n",
    "test=ann.predict(sc.transform([[500,30, 90000, 0, 0,50000]]))\n",
    "print(test)\n",
    "if test>0.2:\n",
    "  print(\"Loan Approved\")\n",
    "else:\n",
    "  print(\"Loan not Approved\")"
   ]
  },
  {
   "cell_type": "code",
   "execution_count": null,
   "id": "5cc5a796",
   "metadata": {},
   "outputs": [],
   "source": []
  }
 ],
 "metadata": {},
  "language_info": {
   "codemirror_mode": {
    "name": "ipython",
    "version": 3
   },
   "file_extension": ".py",
   "mimetype": "text/x-python",
   "name": "python",
   "nbconvert_exporter": "python",
   "pygments_lexer": "ipython3",
   "version": "3.9.12"
  }
 },
 "nbformat": 4,
 "nbformat_minor": 5
}
